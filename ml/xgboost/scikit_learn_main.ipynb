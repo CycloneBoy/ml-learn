{
 "cells": [
  {
   "cell_type": "code",
   "execution_count": null,
   "metadata": {
    "collapsed": true
   },
   "outputs": [],
   "source": [
    "\n",
    "import pandas as pd\n",
    "import xgboost as xgb\n",
    "import numpy as np\n",
    "from sklearn import  datasets\n",
    "from sklearn.metrics import roc_auc_score\n",
    "from sklearn.model_selection import  train_test_split\n",
    "\n",
    "cancer = datasets.load_breast_cancer()\n",
    "X = cancer.data\n",
    "y = cancer.target\n",
    "\n",
    "X_train,X_test,y_train,y_test = train_test_split(X,y,test_size=1/5,random_state=8)\n",
    "\n",
    "\n",
    "X_train\n",
    "\n",
    "\n",
    "xgb_train = xgb.DMatrix(X_train, label=y_train)\n",
    "xgb_test = xgb.DMatrix(X_test, label=y_test)\n",
    "\n",
    "\n",
    "params = {\n",
    "    \"booster\": \"gbtree\",\n",
    "    \"eta\": \"0.1\",\n",
    "    \"min_child_weight\": 1,\n",
    "    \"max_depth\": 5,\n",
    "}\n",
    "\n",
    "\n",
    "num_round = 50\n",
    "watchlist = [(xgb_train, 'train'), (xgb_test, 'test')]\n",
    "\n",
    "\n",
    "bst = xgb.train(params, xgb_train, num_round, watchlist,obj=logregobj,feval=evalerror)\n",
    "\n",
    "preds = bst.predict(xgb_test)\n",
    "\n",
    "print(preds)"
   ]
  }
 ],
 "metadata": {
  "kernelspec": {
   "display_name": "Python 3",
   "language": "python",
   "name": "python3"
  },
  "language_info": {
   "codemirror_mode": {
    "name": "ipython",
    "version": 3
   },
   "file_extension": ".py",
   "mimetype": "text/x-python",
   "name": "python",
   "nbconvert_exporter": "python",
   "pygments_lexer": "ipython3",
   "version": "3.7.2"
  }
 },
 "nbformat": 4,
 "nbformat_minor": 1
}