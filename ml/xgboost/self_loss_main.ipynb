{
 "cells": [
  {
   "cell_type": "code",
   "execution_count": null,
   "metadata": {
    "collapsed": true
   },
   "outputs": [],
   "source": []
  },
  {
   "cell_type": "markdown",
   "metadata": {
    "pycharm": {
     "name": "#%% md\n"
    }
   },
   "source": [
    "自定义目标函数和评估函数\n",
    "\n",
    "\n"
   ]
  },
  {
   "cell_type": "code",
   "execution_count": 25,
   "metadata": {
    "pycharm": {
     "name": "#%%\n"
    }
   },
   "outputs": [
    {
     "name": "stdout",
     "output_type": "stream",
     "text": [
      "[0]\ttrain-rmse:0.33664\ttrain-error:0.36484\ttest-rmse:0.35246\ttest-error:0.40351\n",
      "[1]\ttrain-rmse:0.21671\ttrain-error:0.36484\ttest-rmse:0.25314\ttest-error:0.40351\n",
      "[2]\ttrain-rmse:0.17132\ttrain-error:0.04835\ttest-rmse:0.23050\ttest-error:0.07895\n",
      "[3]\ttrain-rmse:0.23711\ttrain-error:0.04835\ttest-rmse:0.29001\ttest-error:0.08772\n",
      "[4]\ttrain-rmse:0.33790\ttrain-error:0.03517\ttest-rmse:0.38392\ttest-error:0.07895\n",
      "[5]\ttrain-rmse:0.44899\ttrain-error:0.01978\ttest-rmse:0.48731\ttest-error:0.07018\n",
      "[6]\ttrain-rmse:0.56289\ttrain-error:0.01319\ttest-rmse:0.59604\ttest-error:0.05263\n",
      "[7]\ttrain-rmse:0.67488\ttrain-error:0.00879\ttest-rmse:0.69874\ttest-error:0.05263\n",
      "[8]\ttrain-rmse:0.78577\ttrain-error:0.00879\ttest-rmse:0.80545\ttest-error:0.05263\n",
      "[9]\ttrain-rmse:0.89346\ttrain-error:0.00879\ttest-rmse:0.90685\ttest-error:0.05263\n",
      "[10]\ttrain-rmse:0.99708\ttrain-error:0.00879\ttest-rmse:1.00828\ttest-error:0.05263\n",
      "[11]\ttrain-rmse:1.10112\ttrain-error:0.00879\ttest-rmse:1.10701\ttest-error:0.06140\n",
      "[12]\ttrain-rmse:1.20159\ttrain-error:0.00879\ttest-rmse:1.20548\ttest-error:0.06140\n",
      "[13]\ttrain-rmse:1.29975\ttrain-error:0.00879\ttest-rmse:1.30221\ttest-error:0.06140\n",
      "[14]\ttrain-rmse:1.39635\ttrain-error:0.00879\ttest-rmse:1.39934\ttest-error:0.06140\n",
      "[15]\ttrain-rmse:1.49252\ttrain-error:0.00879\ttest-rmse:1.49343\ttest-error:0.05263\n",
      "[16]\ttrain-rmse:1.58706\ttrain-error:0.00659\ttest-rmse:1.58827\ttest-error:0.04386\n",
      "[17]\ttrain-rmse:1.67998\ttrain-error:0.00659\ttest-rmse:1.68171\ttest-error:0.04386\n",
      "[18]\ttrain-rmse:1.77211\ttrain-error:0.00659\ttest-rmse:1.77251\ttest-error:0.04386\n",
      "[19]\ttrain-rmse:1.86186\ttrain-error:0.00659\ttest-rmse:1.86420\ttest-error:0.04386\n",
      "[20]\ttrain-rmse:1.95013\ttrain-error:0.00659\ttest-rmse:1.95455\ttest-error:0.04386\n",
      "[21]\ttrain-rmse:2.03547\ttrain-error:0.00659\ttest-rmse:2.03960\ttest-error:0.04386\n",
      "[22]\ttrain-rmse:2.12162\ttrain-error:0.00659\ttest-rmse:2.12708\ttest-error:0.04386\n",
      "[23]\ttrain-rmse:2.20666\ttrain-error:0.00659\ttest-rmse:2.21203\ttest-error:0.04386\n",
      "[24]\ttrain-rmse:2.28555\ttrain-error:0.00659\ttest-rmse:2.28592\ttest-error:0.04386\n",
      "[25]\ttrain-rmse:2.36331\ttrain-error:0.00659\ttest-rmse:2.36768\ttest-error:0.04386\n",
      "[26]\ttrain-rmse:2.44355\ttrain-error:0.00659\ttest-rmse:2.44961\ttest-error:0.04386\n",
      "[27]\ttrain-rmse:2.52208\ttrain-error:0.00659\ttest-rmse:2.52977\ttest-error:0.04386\n",
      "[28]\ttrain-rmse:2.59905\ttrain-error:0.00659\ttest-rmse:2.60880\ttest-error:0.04386\n",
      "[29]\ttrain-rmse:2.67691\ttrain-error:0.00659\ttest-rmse:2.68466\ttest-error:0.05263\n",
      "[30]\ttrain-rmse:2.74564\ttrain-error:0.00659\ttest-rmse:2.75219\ttest-error:0.04386\n",
      "[31]\ttrain-rmse:2.81833\ttrain-error:0.00440\ttest-rmse:2.82331\ttest-error:0.04386\n",
      "[32]\ttrain-rmse:2.88818\ttrain-error:0.00659\ttest-rmse:2.88784\ttest-error:0.03509\n",
      "[33]\ttrain-rmse:2.95640\ttrain-error:0.00440\ttest-rmse:2.95681\ttest-error:0.04386\n",
      "[34]\ttrain-rmse:3.02544\ttrain-error:0.00220\ttest-rmse:3.02452\ttest-error:0.04386\n",
      "[35]\ttrain-rmse:3.09308\ttrain-error:0.00440\ttest-rmse:3.09235\ttest-error:0.04386\n",
      "[36]\ttrain-rmse:3.14191\ttrain-error:0.00220\ttest-rmse:3.13684\ttest-error:0.04386\n",
      "[37]\ttrain-rmse:3.21380\ttrain-error:0.00220\ttest-rmse:3.20654\ttest-error:0.04386\n",
      "[38]\ttrain-rmse:3.27486\ttrain-error:0.00220\ttest-rmse:3.26926\ttest-error:0.04386\n",
      "[39]\ttrain-rmse:3.33959\ttrain-error:0.00220\ttest-rmse:3.33323\ttest-error:0.04386\n",
      "[40]\ttrain-rmse:3.39526\ttrain-error:0.00220\ttest-rmse:3.38706\ttest-error:0.04386\n",
      "[41]\ttrain-rmse:3.45497\ttrain-error:0.00440\ttest-rmse:3.44893\ttest-error:0.04386\n",
      "[42]\ttrain-rmse:3.50582\ttrain-error:0.00220\ttest-rmse:3.49042\ttest-error:0.04386\n",
      "[43]\ttrain-rmse:3.55785\ttrain-error:0.00220\ttest-rmse:3.54220\ttest-error:0.04386\n",
      "[44]\ttrain-rmse:3.60552\ttrain-error:0.00220\ttest-rmse:3.59116\ttest-error:0.04386\n",
      "[45]\ttrain-rmse:3.65956\ttrain-error:0.00000\ttest-rmse:3.64325\ttest-error:0.04386\n",
      "[46]\ttrain-rmse:3.70681\ttrain-error:0.00000\ttest-rmse:3.68944\ttest-error:0.04386\n",
      "[47]\ttrain-rmse:3.76599\ttrain-error:0.00000\ttest-rmse:3.74543\ttest-error:0.04386\n",
      "[48]\ttrain-rmse:3.81496\ttrain-error:0.00000\ttest-rmse:3.79703\ttest-error:0.04386\n",
      "[49]\ttrain-rmse:3.86701\ttrain-error:0.00000\ttest-rmse:3.84457\ttest-error:0.04386\n",
      "[ 4.9854875   4.248347    5.1579776   4.099169    5.2346306   4.9639096\n",
      "  0.99575275  0.35151002  4.9493527   4.8774166   4.5833898   4.6244082\n",
      "  5.059889   -4.878746   -4.8145313   5.07968     4.145886   -4.349712\n",
      " -1.2989159  -4.9111767   1.1833907  -3.0265803   2.0813646   5.210171\n",
      "  4.9292374  -0.65923303 -4.682297   -4.8234024   4.3866415   4.0801744\n",
      "  5.3501334   4.6203575  -4.7950387  -4.878746   -4.6488986   4.772447\n",
      " -4.4964113  -4.7287235   2.5581288  -4.7225695   5.147994   -4.735306\n",
      " -4.348688    5.0129914   1.3899946   5.099174    3.344764   -4.594523\n",
      " -4.893472   -4.9111767   2.0217671  -4.318665    4.583028   -4.3173976\n",
      "  4.602435   -4.9111767  -4.8234024   5.235977    5.3501334   5.3501334\n",
      " -4.805698   -4.6943135   4.884059    0.02453893  4.541099    5.1309814\n",
      "  5.2587657  -2.819486    4.9141245   3.0334454  -2.7967637   4.256967\n",
      " -4.7704964   5.332566   -4.8234024   4.404081   -4.720648    4.778421\n",
      "  4.831002    5.0995607  -4.9111767  -3.4323916   4.6535254  -4.8234024\n",
      "  4.9493527   5.3501334   2.5469897  -4.8482575   3.710122   -4.594523\n",
      "  4.9639096   4.8989944  -3.834871    4.2866616   4.961255   -1.0896893\n",
      " -0.43226507  4.3486314   4.8974214  -4.098767    4.1229253  -4.893472\n",
      "  4.7036033  -4.9111767   4.9903107   0.7812905   5.0995607  -4.805698\n",
      "  5.210171    4.163331    2.1431487   4.998132    4.1229253   4.984058  ]\n"
     ]
    }
   ],
   "source": [
    "import pandas as pd\n",
    "import xgboost as xgb\n",
    "import numpy as np\n",
    "from sklearn import  datasets\n",
    "from sklearn.metrics import roc_auc_score\n",
    "from sklearn.model_selection import  train_test_split\n",
    "\n",
    "cancer = datasets.load_breast_cancer()\n",
    "X = cancer.data\n",
    "y = cancer.target\n",
    "\n",
    "X_train,X_test,y_train,y_test = train_test_split(X,y,test_size=1/5,random_state=8)\n",
    "\n",
    "\n",
    "X_train\n",
    "\n",
    "\n",
    "xgb_train = xgb.DMatrix(X_train, label=y_train)\n",
    "xgb_test = xgb.DMatrix(X_test, label=y_test)\n",
    "\n",
    "\n",
    "params = {\n",
    "    \"booster\": \"gbtree\",\n",
    "    \"eta\": \"0.1\",\n",
    "    \"min_child_weight\": 1,\n",
    "    \"max_depth\": 5,\n",
    "}\n",
    "\n",
    "\n",
    "num_round = 50\n",
    "watchlist = [(xgb_train, 'train'), (xgb_test, 'test')]\n",
    "\n",
    "\n",
    "# 自定义目标函数\n",
    "def logregobj(preds,dtrain):\n",
    "    labels  = dtrain.get_label()\n",
    "    preds = 1.0 / (1.0 + np.exp(-preds))\n",
    "    grad = preds - labels\n",
    "    hess = preds * (1.0 - preds)\n",
    "    return grad,hess\n",
    "\n",
    "# 自定义评估函数\n",
    "def evalerror(preds,dtrain):\n",
    "    labels = dtrain.get_label()\n",
    "    return 'error',float(sum(labels != (preds > 0.0))) / len(labels)\n",
    "\n",
    "bst = xgb.train(params, xgb_train, num_round, watchlist,obj=logregobj,feval=evalerror)\n",
    "\n",
    "preds = bst.predict(xgb_test)\n",
    "\n",
    "print(preds)\n"
   ]
  },
  {
   "cell_type": "code",
   "execution_count": null,
   "metadata": {
    "pycharm": {
     "name": "#%%\n"
    }
   },
   "outputs": [],
   "source": []
  },
  {
   "cell_type": "markdown",
   "metadata": {},
   "source": [
    "# 交叉验证\n"
   ]
  },
  {
   "cell_type": "code",
   "execution_count": 9,
   "metadata": {
    "pycharm": {
     "name": "#%%\n"
    }
   },
   "outputs": [
    {
     "name": "stdout",
     "output_type": "stream",
     "text": [
      "[0]\ttrain-auc:0.99168+0.00342\ttest-auc:0.96369+0.01686\n",
      "[1]\ttrain-auc:0.99284+0.00336\ttest-auc:0.96484+0.01782\n",
      "[2]\ttrain-auc:0.99321+0.00357\ttest-auc:0.96753+0.02109\n",
      "[3]\ttrain-auc:0.99454+0.00291\ttest-auc:0.96765+0.02243\n",
      "[4]\ttrain-auc:0.99539+0.00213\ttest-auc:0.96844+0.02275\n",
      "[5]\ttrain-auc:0.99574+0.00197\ttest-auc:0.97498+0.02041\n",
      "[6]\ttrain-auc:0.99579+0.00194\ttest-auc:0.98059+0.01920\n",
      "[7]\ttrain-auc:0.99586+0.00195\ttest-auc:0.98148+0.01973\n",
      "[8]\ttrain-auc:0.99656+0.00221\ttest-auc:0.98133+0.01952\n",
      "[9]\ttrain-auc:0.99724+0.00208\ttest-auc:0.98191+0.02016\n"
     ]
    },
    {
     "name": "stderr",
     "output_type": "stream",
     "text": [
      "/home/sl/app/anaconda3/lib/python3.7/site-packages/xgboost/training.py:17: UserWarning: Old style callback is deprecated.  See: https://xgboost.readthedocs.io/en/latest/python/callbacks.html\n",
      "  warnings.warn(f'Old style callback is deprecated.  See: {link}', UserWarning)\n"
     ]
    },
    {
     "name": "stdout",
     "output_type": "stream",
     "text": [
      "[10]\ttrain-auc:0.99788+0.00184\ttest-auc:0.98234+0.02049\n",
      "[11]\ttrain-auc:0.99805+0.00191\ttest-auc:0.98258+0.02036\n",
      "[12]\ttrain-auc:0.99825+0.00190\ttest-auc:0.98371+0.02066\n",
      "[13]\ttrain-auc:0.99895+0.00078\ttest-auc:0.98372+0.02071\n",
      "[14]\ttrain-auc:0.99903+0.00073\ttest-auc:0.98390+0.02101\n",
      "[15]\ttrain-auc:0.99921+0.00055\ttest-auc:0.98473+0.02086\n",
      "[16]\ttrain-auc:0.99936+0.00050\ttest-auc:0.98493+0.02116\n",
      "[17]\ttrain-auc:0.99940+0.00051\ttest-auc:0.98502+0.02122\n",
      "[18]\ttrain-auc:0.99945+0.00044\ttest-auc:0.98503+0.02120\n",
      "[19]\ttrain-auc:0.99962+0.00029\ttest-auc:0.98470+0.02139\n",
      "[20]\ttrain-auc:0.99970+0.00021\ttest-auc:0.98524+0.02125\n",
      "[21]\ttrain-auc:0.99976+0.00015\ttest-auc:0.98523+0.02150\n",
      "[22]\ttrain-auc:0.99983+0.00008\ttest-auc:0.98522+0.02205\n",
      "[23]\ttrain-auc:0.99989+0.00003\ttest-auc:0.98522+0.02235\n",
      "[24]\ttrain-auc:0.99991+0.00003\ttest-auc:0.98490+0.02251\n",
      "[25]\ttrain-auc:0.99994+0.00004\ttest-auc:0.98501+0.02224\n",
      "[26]\ttrain-auc:0.99994+0.00004\ttest-auc:0.98492+0.02195\n",
      "[27]\ttrain-auc:0.99997+0.00002\ttest-auc:0.98523+0.02205\n",
      "[28]\ttrain-auc:0.99997+0.00002\ttest-auc:0.98535+0.02187\n",
      "[29]\ttrain-auc:0.99998+0.00002\ttest-auc:0.98533+0.02184\n",
      "[30]\ttrain-auc:0.99999+0.00002\ttest-auc:0.98536+0.02156\n",
      "[31]\ttrain-auc:0.99999+0.00002\ttest-auc:0.98524+0.02182\n",
      "[32]\ttrain-auc:0.99999+0.00001\ttest-auc:0.98754+0.01681\n",
      "[33]\ttrain-auc:0.99999+0.00001\ttest-auc:0.98728+0.01781\n",
      "[34]\ttrain-auc:0.99999+0.00001\ttest-auc:0.98696+0.01818\n",
      "[35]\ttrain-auc:0.99999+0.00001\ttest-auc:0.98683+0.01867\n",
      "[36]\ttrain-auc:0.99999+0.00001\ttest-auc:0.98715+0.01827\n",
      "[37]\ttrain-auc:1.00000+0.00000\ttest-auc:0.98671+0.01889\n",
      "[38]\ttrain-auc:1.00000+0.00000\ttest-auc:0.98671+0.01889\n",
      "[39]\ttrain-auc:1.00000+0.00000\ttest-auc:0.98660+0.01912\n",
      "[40]\ttrain-auc:1.00000+0.00000\ttest-auc:0.98660+0.01912\n",
      "[41]\ttrain-auc:1.00000+0.00000\ttest-auc:0.98660+0.01912\n",
      "[42]\ttrain-auc:1.00000+0.00000\ttest-auc:0.98830+0.01578\n",
      "[43]\ttrain-auc:1.00000+0.00000\ttest-auc:0.98830+0.01578\n",
      "[44]\ttrain-auc:1.00000+0.00000\ttest-auc:0.98830+0.01578\n",
      "[45]\ttrain-auc:1.00000+0.00000\ttest-auc:0.98796+0.01645\n",
      "[46]\ttrain-auc:1.00000+0.00000\ttest-auc:0.98864+0.01512\n",
      "[47]\ttrain-auc:1.00000+0.00000\ttest-auc:0.98922+0.01373\n",
      "[48]\ttrain-auc:1.00000+0.00000\ttest-auc:0.98878+0.01435\n",
      "[49]\ttrain-auc:1.00000+0.00000\ttest-auc:0.98844+0.01501\n"
     ]
    }
   ],
   "source": [
    "params = {\n",
    "    \"objective\":\"binary:logistic\",\n",
    "    \"booster\": \"gbtree\",\n",
    "    \"eta\": \"0.1\",\n",
    "    \"min_child_weight\": 1,\n",
    "    \"max_depth\": 5,\n",
    "}\n",
    "\n",
    "res = xgb.cv(params,xgb_train,num_round,nfold=5,metrics={'auc'},seed=0,\n",
    "             callbacks=[xgb.callback.print_evaluation(show_stdv=True)])"
   ]
  },
  {
   "cell_type": "code",
   "execution_count": 10,
   "metadata": {
    "pycharm": {
     "name": "#%%\n"
    }
   },
   "outputs": [
    {
     "name": "stdout",
     "output_type": "stream",
     "text": [
      "[0]\ttrain-auc:0.99168\ttest-auc:0.96369\n",
      "Multiple eval metrics have been passed: 'test-auc' will be used for early stopping.\n",
      "Will train until test-auc hasn't improved in 5 rounds.\n",
      "[1]\ttrain-auc:0.99284\ttest-auc:0.96484\n",
      "[2]\ttrain-auc:0.99321\ttest-auc:0.96753\n",
      "[3]\ttrain-auc:0.99454\ttest-auc:0.96765\n",
      "[4]\ttrain-auc:0.99539\ttest-auc:0.96844\n",
      "[5]\ttrain-auc:0.99574\ttest-auc:0.97498\n",
      "[6]\ttrain-auc:0.99579\ttest-auc:0.98059\n",
      "[7]\ttrain-auc:0.99586\ttest-auc:0.98148\n",
      "[8]\ttrain-auc:0.99656\ttest-auc:0.98133\n",
      "[9]\ttrain-auc:0.99724\ttest-auc:0.98191\n",
      "[10]\ttrain-auc:0.99788\ttest-auc:0.98234\n",
      "[11]\ttrain-auc:0.99805\ttest-auc:0.98258\n",
      "[12]\ttrain-auc:0.99825\ttest-auc:0.98371\n",
      "[13]\ttrain-auc:0.99895\ttest-auc:0.98372\n",
      "[14]\ttrain-auc:0.99903\ttest-auc:0.98390\n",
      "[15]\ttrain-auc:0.99921\ttest-auc:0.98473\n"
     ]
    },
    {
     "name": "stderr",
     "output_type": "stream",
     "text": [
      "/home/sl/app/anaconda3/lib/python3.7/site-packages/xgboost/training.py:17: UserWarning: Old style callback is deprecated.  See: https://xgboost.readthedocs.io/en/latest/python/callbacks.html\n",
      "  warnings.warn(f'Old style callback is deprecated.  See: {link}', UserWarning)\n"
     ]
    },
    {
     "name": "stdout",
     "output_type": "stream",
     "text": [
      "[16]\ttrain-auc:0.99936\ttest-auc:0.98493\n",
      "[17]\ttrain-auc:0.99940\ttest-auc:0.98502\n",
      "[18]\ttrain-auc:0.99945\ttest-auc:0.98503\n",
      "[19]\ttrain-auc:0.99962\ttest-auc:0.98470\n",
      "[20]\ttrain-auc:0.99970\ttest-auc:0.98524\n",
      "[21]\ttrain-auc:0.99976\ttest-auc:0.98523\n",
      "[22]\ttrain-auc:0.99983\ttest-auc:0.98522\n",
      "[23]\ttrain-auc:0.99989\ttest-auc:0.98522\n",
      "[24]\ttrain-auc:0.99991\ttest-auc:0.98490\n",
      "[25]\ttrain-auc:0.99994\ttest-auc:0.98501\n",
      "Stopping. Best iteration:\n",
      "[20]\ttrain-auc:0.99970+0.00021\ttest-auc:0.98524+0.02125\n"
     ]
    },
    {
     "ename": "TypeError",
     "evalue": "int() argument must be a string, a bytes-like object or a number, not 'NoneType'",
     "output_type": "error",
     "traceback": [
      "\u001B[0;31m---------------------------------------------------------------------------\u001B[0m",
      "\u001B[0;31mTypeError\u001B[0m                                 Traceback (most recent call last)",
      "\u001B[0;32m<ipython-input-10-01d0dd17010d>\u001B[0m in \u001B[0;36m<module>\u001B[0;34m()\u001B[0m\n\u001B[1;32m      2\u001B[0m res = xgb.cv(params,xgb_train,num_round,nfold=5,metrics={'auc'},seed=0,\n\u001B[1;32m      3\u001B[0m              callbacks=[xgb.callback.print_evaluation(show_stdv=False),\n\u001B[0;32m----> 4\u001B[0;31m                         xgb.callback.early_stop(5)])\n\u001B[0m",
      "\u001B[0;32m~/app/anaconda3/lib/python3.7/site-packages/xgboost/training.py\u001B[0m in \u001B[0;36mcv\u001B[0;34m(params, dtrain, num_boost_round, nfold, stratified, folds, metrics, obj, feval, maximize, early_stopping_rounds, fpreproc, as_pandas, verbose_eval, show_stdv, seed, callbacks, shuffle)\u001B[0m\n\u001B[1;32m    507\u001B[0m         \u001B[0;32mif\u001B[0m \u001B[0mshould_break\u001B[0m\u001B[0;34m:\u001B[0m\u001B[0;34m\u001B[0m\u001B[0;34m\u001B[0m\u001B[0m\n\u001B[1;32m    508\u001B[0m             \u001B[0;32mfor\u001B[0m \u001B[0mk\u001B[0m \u001B[0;32min\u001B[0m \u001B[0mresults\u001B[0m\u001B[0;34m:\u001B[0m\u001B[0;34m\u001B[0m\u001B[0;34m\u001B[0m\u001B[0m\n\u001B[0;32m--> 509\u001B[0;31m                 \u001B[0mresults\u001B[0m\u001B[0;34m[\u001B[0m\u001B[0mk\u001B[0m\u001B[0;34m]\u001B[0m \u001B[0;34m=\u001B[0m \u001B[0mresults\u001B[0m\u001B[0;34m[\u001B[0m\u001B[0mk\u001B[0m\u001B[0;34m]\u001B[0m\u001B[0;34m[\u001B[0m\u001B[0;34m:\u001B[0m\u001B[0;34m(\u001B[0m\u001B[0mbooster\u001B[0m\u001B[0;34m.\u001B[0m\u001B[0mbest_iteration\u001B[0m \u001B[0;34m+\u001B[0m \u001B[0;36m1\u001B[0m\u001B[0;34m)\u001B[0m\u001B[0;34m]\u001B[0m\u001B[0;34m\u001B[0m\u001B[0;34m\u001B[0m\u001B[0m\n\u001B[0m\u001B[1;32m    510\u001B[0m             \u001B[0;32mbreak\u001B[0m\u001B[0;34m\u001B[0m\u001B[0;34m\u001B[0m\u001B[0m\n\u001B[1;32m    511\u001B[0m     \u001B[0;32mif\u001B[0m \u001B[0mas_pandas\u001B[0m\u001B[0;34m:\u001B[0m\u001B[0;34m\u001B[0m\u001B[0;34m\u001B[0m\u001B[0m\n",
      "\u001B[0;32m~/app/anaconda3/lib/python3.7/site-packages/xgboost/training.py\u001B[0m in \u001B[0;36mbest_iteration\u001B[0;34m(self)\u001B[0m\n\u001B[1;32m    257\u001B[0m     \u001B[0;32mdef\u001B[0m \u001B[0mbest_iteration\u001B[0m\u001B[0;34m(\u001B[0m\u001B[0mself\u001B[0m\u001B[0;34m)\u001B[0m\u001B[0;34m:\u001B[0m\u001B[0;34m\u001B[0m\u001B[0;34m\u001B[0m\u001B[0m\n\u001B[1;32m    258\u001B[0m         \u001B[0;34m'''Get best_iteration'''\u001B[0m\u001B[0;34m\u001B[0m\u001B[0;34m\u001B[0m\u001B[0m\n\u001B[0;32m--> 259\u001B[0;31m         \u001B[0;32mreturn\u001B[0m \u001B[0mint\u001B[0m\u001B[0;34m(\u001B[0m\u001B[0mself\u001B[0m\u001B[0;34m.\u001B[0m\u001B[0mcvfolds\u001B[0m\u001B[0;34m[\u001B[0m\u001B[0;36m0\u001B[0m\u001B[0;34m]\u001B[0m\u001B[0;34m.\u001B[0m\u001B[0mbst\u001B[0m\u001B[0;34m.\u001B[0m\u001B[0mattr\u001B[0m\u001B[0;34m(\u001B[0m\u001B[0;34m\"best_iteration\"\u001B[0m\u001B[0;34m)\u001B[0m\u001B[0;34m)\u001B[0m\u001B[0;34m\u001B[0m\u001B[0;34m\u001B[0m\u001B[0m\n\u001B[0m\u001B[1;32m    260\u001B[0m \u001B[0;34m\u001B[0m\u001B[0m\n\u001B[1;32m    261\u001B[0m     \u001B[0;34m@\u001B[0m\u001B[0mproperty\u001B[0m\u001B[0;34m\u001B[0m\u001B[0;34m\u001B[0m\u001B[0m\n",
      "\u001B[0;31mTypeError\u001B[0m: int() argument must be a string, a bytes-like object or a number, not 'NoneType'"
     ]
    }
   ],
   "source": [
    "\n",
    "res = xgb.cv(params,xgb_train,num_round,nfold=5,metrics={'auc'},seed=0,\n",
    "             callbacks=[xgb.callback.print_evaluation(show_stdv=False),\n",
    "                        xgb.callback.early_stop(5)])"
   ]
  },
  {
   "cell_type": "code",
   "execution_count": 16,
   "metadata": {
    "pycharm": {
     "name": "#%%\n"
    },
    "scrolled": true
   },
   "outputs": [
    {
     "name": "stdout",
     "output_type": "stream",
     "text": [
      "[0]\ttrain-auc:0.99293\ttest-auc:0.95827\n",
      "Multiple eval metrics have been passed: 'test-auc' will be used for early stopping.\n",
      "Will train until test-auc hasn't improved in 5 rounds.\n",
      "[1]\ttrain-auc:0.99519\ttest-auc:0.96721\n",
      "[2]\ttrain-auc:0.99603\ttest-auc:0.97396\n",
      "[3]\ttrain-auc:0.99666\ttest-auc:0.97573\n",
      "[4]\ttrain-auc:0.99675\ttest-auc:0.97745\n",
      "[5]\ttrain-auc:0.99697\ttest-auc:0.97996\n",
      "[6]\ttrain-auc:0.99763\ttest-auc:0.98106\n",
      "[7]\ttrain-auc:0.99826\ttest-auc:0.98129\n",
      "[8]\ttrain-auc:0.99849\ttest-auc:0.98215\n",
      "[9]\ttrain-auc:0.99882\ttest-auc:0.98250\n",
      "[10]\ttrain-auc:0.99908\ttest-auc:0.98295\n",
      "[11]\ttrain-auc:0.99916\ttest-auc:0.98303\n"
     ]
    },
    {
     "name": "stderr",
     "output_type": "stream",
     "text": [
      "/home/sl/app/anaconda3/lib/python3.7/site-packages/xgboost/training.py:17: UserWarning: Old style callback is deprecated.  See: https://xgboost.readthedocs.io/en/latest/python/callbacks.html\n",
      "  warnings.warn(f'Old style callback is deprecated.  See: {link}', UserWarning)\n"
     ]
    },
    {
     "name": "stdout",
     "output_type": "stream",
     "text": [
      "[12]\ttrain-auc:0.99930\ttest-auc:0.98337\n",
      "[13]\ttrain-auc:0.99935\ttest-auc:0.98348\n",
      "[14]\ttrain-auc:0.99940\ttest-auc:0.98381\n",
      "[15]\ttrain-auc:0.99946\ttest-auc:0.98392\n",
      "[16]\ttrain-auc:0.99950\ttest-auc:0.98402\n",
      "[17]\ttrain-auc:0.99963\ttest-auc:0.98411\n",
      "[18]\ttrain-auc:0.99967\ttest-auc:0.98430\n",
      "[19]\ttrain-auc:0.99971\ttest-auc:0.98474\n",
      "[20]\ttrain-auc:0.99974\ttest-auc:0.98462\n",
      "[21]\ttrain-auc:0.99980\ttest-auc:0.98647\n",
      "[22]\ttrain-auc:0.99981\ttest-auc:0.98637\n",
      "[23]\ttrain-auc:0.99985\ttest-auc:0.98657\n",
      "[24]\ttrain-auc:0.99990\ttest-auc:0.98626\n",
      "[25]\ttrain-auc:0.99990\ttest-auc:0.98626\n",
      "[26]\ttrain-auc:0.99992\ttest-auc:0.98645\n",
      "[27]\ttrain-auc:0.99992\ttest-auc:0.98667\n",
      "[28]\ttrain-auc:0.99993\ttest-auc:0.98676\n",
      "[29]\ttrain-auc:0.99994\ttest-auc:0.98663\n",
      "[30]\ttrain-auc:0.99994\ttest-auc:0.98674\n",
      "[31]\ttrain-auc:0.99995\ttest-auc:0.98664\n",
      "[32]\ttrain-auc:0.99995\ttest-auc:0.98652\n",
      "[33]\ttrain-auc:0.99996\ttest-auc:0.98631\n",
      "Stopping. Best iteration:\n",
      "[28]\ttrain-auc:0.99993+0.00003\ttest-auc:0.98676+0.01973\n"
     ]
    },
    {
     "ename": "TypeError",
     "evalue": "int() argument must be a string, a bytes-like object or a number, not 'NoneType'",
     "output_type": "error",
     "traceback": [
      "\u001B[0;31m---------------------------------------------------------------------------\u001B[0m",
      "\u001B[0;31mTypeError\u001B[0m                                 Traceback (most recent call last)",
      "\u001B[0;32m<ipython-input-16-d81a90cc2373>\u001B[0m in \u001B[0;36m<module>\u001B[0;34m()\u001B[0m\n\u001B[1;32m      9\u001B[0m res = xgb.cv(params,xgb_train,num_round,nfold=5,metrics={'auc'},seed=0,\n\u001B[1;32m     10\u001B[0m              fpreproc=fpreproc,callbacks=[xgb.callback.print_evaluation(show_stdv=False),\n\u001B[0;32m---> 11\u001B[0;31m                         xgb.callback.early_stop(5)])\n\u001B[0m",
      "\u001B[0;32m~/app/anaconda3/lib/python3.7/site-packages/xgboost/training.py\u001B[0m in \u001B[0;36mcv\u001B[0;34m(params, dtrain, num_boost_round, nfold, stratified, folds, metrics, obj, feval, maximize, early_stopping_rounds, fpreproc, as_pandas, verbose_eval, show_stdv, seed, callbacks, shuffle)\u001B[0m\n\u001B[1;32m    507\u001B[0m         \u001B[0;32mif\u001B[0m \u001B[0mshould_break\u001B[0m\u001B[0;34m:\u001B[0m\u001B[0;34m\u001B[0m\u001B[0;34m\u001B[0m\u001B[0m\n\u001B[1;32m    508\u001B[0m             \u001B[0;32mfor\u001B[0m \u001B[0mk\u001B[0m \u001B[0;32min\u001B[0m \u001B[0mresults\u001B[0m\u001B[0;34m:\u001B[0m\u001B[0;34m\u001B[0m\u001B[0;34m\u001B[0m\u001B[0m\n\u001B[0;32m--> 509\u001B[0;31m                 \u001B[0mresults\u001B[0m\u001B[0;34m[\u001B[0m\u001B[0mk\u001B[0m\u001B[0;34m]\u001B[0m \u001B[0;34m=\u001B[0m \u001B[0mresults\u001B[0m\u001B[0;34m[\u001B[0m\u001B[0mk\u001B[0m\u001B[0;34m]\u001B[0m\u001B[0;34m[\u001B[0m\u001B[0;34m:\u001B[0m\u001B[0;34m(\u001B[0m\u001B[0mbooster\u001B[0m\u001B[0;34m.\u001B[0m\u001B[0mbest_iteration\u001B[0m \u001B[0;34m+\u001B[0m \u001B[0;36m1\u001B[0m\u001B[0;34m)\u001B[0m\u001B[0;34m]\u001B[0m\u001B[0;34m\u001B[0m\u001B[0;34m\u001B[0m\u001B[0m\n\u001B[0m\u001B[1;32m    510\u001B[0m             \u001B[0;32mbreak\u001B[0m\u001B[0;34m\u001B[0m\u001B[0;34m\u001B[0m\u001B[0m\n\u001B[1;32m    511\u001B[0m     \u001B[0;32mif\u001B[0m \u001B[0mas_pandas\u001B[0m\u001B[0;34m:\u001B[0m\u001B[0;34m\u001B[0m\u001B[0;34m\u001B[0m\u001B[0m\n",
      "\u001B[0;32m~/app/anaconda3/lib/python3.7/site-packages/xgboost/training.py\u001B[0m in \u001B[0;36mbest_iteration\u001B[0;34m(self)\u001B[0m\n\u001B[1;32m    257\u001B[0m     \u001B[0;32mdef\u001B[0m \u001B[0mbest_iteration\u001B[0m\u001B[0;34m(\u001B[0m\u001B[0mself\u001B[0m\u001B[0;34m)\u001B[0m\u001B[0;34m:\u001B[0m\u001B[0;34m\u001B[0m\u001B[0;34m\u001B[0m\u001B[0m\n\u001B[1;32m    258\u001B[0m         \u001B[0;34m'''Get best_iteration'''\u001B[0m\u001B[0;34m\u001B[0m\u001B[0;34m\u001B[0m\u001B[0m\n\u001B[0;32m--> 259\u001B[0;31m         \u001B[0;32mreturn\u001B[0m \u001B[0mint\u001B[0m\u001B[0;34m(\u001B[0m\u001B[0mself\u001B[0m\u001B[0;34m.\u001B[0m\u001B[0mcvfolds\u001B[0m\u001B[0;34m[\u001B[0m\u001B[0;36m0\u001B[0m\u001B[0;34m]\u001B[0m\u001B[0;34m.\u001B[0m\u001B[0mbst\u001B[0m\u001B[0;34m.\u001B[0m\u001B[0mattr\u001B[0m\u001B[0;34m(\u001B[0m\u001B[0;34m\"best_iteration\"\u001B[0m\u001B[0;34m)\u001B[0m\u001B[0;34m)\u001B[0m\u001B[0;34m\u001B[0m\u001B[0;34m\u001B[0m\u001B[0m\n\u001B[0m\u001B[1;32m    260\u001B[0m \u001B[0;34m\u001B[0m\u001B[0m\n\u001B[1;32m    261\u001B[0m     \u001B[0;34m@\u001B[0m\u001B[0mproperty\u001B[0m\u001B[0;34m\u001B[0m\u001B[0;34m\u001B[0m\u001B[0m\n",
      "\u001B[0;31mTypeError\u001B[0m: int() argument must be a string, a bytes-like object or a number, not 'NoneType'"
     ]
    }
   ],
   "source": [
    "# 自定义预处理函数\n",
    "def fpreproc(xgb_train,xgb_test,params):\n",
    "    label = xgb_train.get_label()\n",
    "    ratio = float(np.sum(label == 0)) / np.sum(label == 1)\n",
    "    params['scale_pos_weight'] = ratio\n",
    "    return (xgb_train,xgb_test,params)\n",
    "\n",
    "\n",
    "res = xgb.cv(params,xgb_train,num_round,nfold=5,metrics={'auc'},seed=0,\n",
    "             fpreproc=fpreproc,callbacks=[xgb.callback.print_evaluation(show_stdv=False),\n",
    "                        xgb.callback.early_stop(5)])\n",
    "\n"
   ]
  },
  {
   "cell_type": "code",
   "execution_count": 18,
   "metadata": {},
   "outputs": [
    {
     "name": "stdout",
     "output_type": "stream",
     "text": [
      "[0]\ttrain-auc:0.99168\ttest-auc:0.96369\ttrain-error:0.02692\ttest-error:0.06154\n",
      "[1]\ttrain-auc:0.99284\ttest-auc:0.96484\ttrain-error:0.02033\ttest-error:0.06593\n",
      "[2]\ttrain-auc:0.99321\ttest-auc:0.96753\ttrain-error:0.01868\ttest-error:0.07253\n",
      "[3]\ttrain-auc:0.99454\ttest-auc:0.96765\ttrain-error:0.01593\ttest-error:0.07033\n",
      "[4]\ttrain-auc:0.99539\ttest-auc:0.96844\ttrain-error:0.01374\ttest-error:0.06813\n",
      "[5]\ttrain-auc:0.99574\ttest-auc:0.97498\ttrain-error:0.01044\ttest-error:0.06154\n"
     ]
    },
    {
     "name": "stderr",
     "output_type": "stream",
     "text": [
      "/home/sl/app/anaconda3/lib/python3.7/site-packages/xgboost/training.py:17: UserWarning: Old style callback is deprecated.  See: https://xgboost.readthedocs.io/en/latest/python/callbacks.html\n",
      "  warnings.warn(f'Old style callback is deprecated.  See: {link}', UserWarning)\n"
     ]
    },
    {
     "name": "stdout",
     "output_type": "stream",
     "text": [
      "[6]\ttrain-auc:0.99579\ttest-auc:0.98059\ttrain-error:0.00824\ttest-error:0.06374\n",
      "[7]\ttrain-auc:0.99586\ttest-auc:0.98148\ttrain-error:0.00824\ttest-error:0.06374\n",
      "[8]\ttrain-auc:0.99656\ttest-auc:0.98133\ttrain-error:0.00659\ttest-error:0.05714\n",
      "[9]\ttrain-auc:0.99724\ttest-auc:0.98191\ttrain-error:0.00495\ttest-error:0.05934\n",
      "[10]\ttrain-auc:0.99788\ttest-auc:0.98234\ttrain-error:0.00495\ttest-error:0.06154\n",
      "[11]\ttrain-auc:0.99805\ttest-auc:0.98258\ttrain-error:0.00549\ttest-error:0.06374\n",
      "[12]\ttrain-auc:0.99825\ttest-auc:0.98371\ttrain-error:0.00549\ttest-error:0.06154\n",
      "[13]\ttrain-auc:0.99895\ttest-auc:0.98372\ttrain-error:0.00495\ttest-error:0.06154\n",
      "[14]\ttrain-auc:0.99903\ttest-auc:0.98390\ttrain-error:0.00495\ttest-error:0.05934\n",
      "[15]\ttrain-auc:0.99921\ttest-auc:0.98473\ttrain-error:0.00495\ttest-error:0.05934\n",
      "[16]\ttrain-auc:0.99936\ttest-auc:0.98493\ttrain-error:0.00440\ttest-error:0.05934\n",
      "[17]\ttrain-auc:0.99940\ttest-auc:0.98502\ttrain-error:0.00440\ttest-error:0.05495\n",
      "[18]\ttrain-auc:0.99945\ttest-auc:0.98503\ttrain-error:0.00440\ttest-error:0.05495\n",
      "[19]\ttrain-auc:0.99962\ttest-auc:0.98470\ttrain-error:0.00440\ttest-error:0.05495\n",
      "[20]\ttrain-auc:0.99970\ttest-auc:0.98524\ttrain-error:0.00385\ttest-error:0.05275\n",
      "[21]\ttrain-auc:0.99976\ttest-auc:0.98523\ttrain-error:0.00385\ttest-error:0.05055\n",
      "[22]\ttrain-auc:0.99983\ttest-auc:0.98522\ttrain-error:0.00385\ttest-error:0.05055\n",
      "[23]\ttrain-auc:0.99989\ttest-auc:0.98522\ttrain-error:0.00330\ttest-error:0.05055\n",
      "[24]\ttrain-auc:0.99991\ttest-auc:0.98490\ttrain-error:0.00330\ttest-error:0.04835\n",
      "[25]\ttrain-auc:0.99994\ttest-auc:0.98501\ttrain-error:0.00330\ttest-error:0.05055\n",
      "[26]\ttrain-auc:0.99994\ttest-auc:0.98492\ttrain-error:0.00330\ttest-error:0.04835\n",
      "[27]\ttrain-auc:0.99997\ttest-auc:0.98523\ttrain-error:0.00330\ttest-error:0.05055\n",
      "[28]\ttrain-auc:0.99997\ttest-auc:0.98535\ttrain-error:0.00330\ttest-error:0.05055\n",
      "[29]\ttrain-auc:0.99998\ttest-auc:0.98533\ttrain-error:0.00330\ttest-error:0.05275\n",
      "[30]\ttrain-auc:0.99999\ttest-auc:0.98536\ttrain-error:0.00330\ttest-error:0.04835\n",
      "[31]\ttrain-auc:0.99999\ttest-auc:0.98524\ttrain-error:0.00330\ttest-error:0.05495\n",
      "[32]\ttrain-auc:0.99999\ttest-auc:0.98754\ttrain-error:0.00330\ttest-error:0.05275\n",
      "[33]\ttrain-auc:0.99999\ttest-auc:0.98728\ttrain-error:0.00330\ttest-error:0.04835\n",
      "[34]\ttrain-auc:0.99999\ttest-auc:0.98696\ttrain-error:0.00330\ttest-error:0.04615\n",
      "[35]\ttrain-auc:0.99999\ttest-auc:0.98683\ttrain-error:0.00330\ttest-error:0.04835\n",
      "[36]\ttrain-auc:0.99999\ttest-auc:0.98715\ttrain-error:0.00330\ttest-error:0.05055\n",
      "[37]\ttrain-auc:1.00000\ttest-auc:0.98671\ttrain-error:0.00330\ttest-error:0.05055\n",
      "[38]\ttrain-auc:1.00000\ttest-auc:0.98671\ttrain-error:0.00275\ttest-error:0.05055\n",
      "[39]\ttrain-auc:1.00000\ttest-auc:0.98660\ttrain-error:0.00220\ttest-error:0.05055\n",
      "[40]\ttrain-auc:1.00000\ttest-auc:0.98660\ttrain-error:0.00220\ttest-error:0.05055\n",
      "[41]\ttrain-auc:1.00000\ttest-auc:0.98660\ttrain-error:0.00220\ttest-error:0.05055\n",
      "[42]\ttrain-auc:1.00000\ttest-auc:0.98830\ttrain-error:0.00165\ttest-error:0.05055\n",
      "[43]\ttrain-auc:1.00000\ttest-auc:0.98830\ttrain-error:0.00110\ttest-error:0.05055\n",
      "[44]\ttrain-auc:1.00000\ttest-auc:0.98830\ttrain-error:0.00055\ttest-error:0.05055\n",
      "[45]\ttrain-auc:1.00000\ttest-auc:0.98796\ttrain-error:0.00000\ttest-error:0.05055\n",
      "[46]\ttrain-auc:1.00000\ttest-auc:0.98864\ttrain-error:0.00000\ttest-error:0.05055\n",
      "[47]\ttrain-auc:1.00000\ttest-auc:0.98922\ttrain-error:0.00000\ttest-error:0.05055\n",
      "[48]\ttrain-auc:1.00000\ttest-auc:0.98878\ttrain-error:0.00000\ttest-error:0.04835\n",
      "[49]\ttrain-auc:1.00000\ttest-auc:0.98844\ttrain-error:0.00000\ttest-error:0.05055\n"
     ]
    }
   ],
   "source": [
    "\n",
    "res = xgb.cv(params,xgb_train,num_round,nfold=5,metrics={'auc'},seed=0,\n",
    "             fpreproc=fpreproc,callbacks=[xgb.callback.print_evaluation(show_stdv=False)],\n",
    "             obj=logregobj,feval=evalerror)\n"
   ]
  },
  {
   "cell_type": "code",
   "execution_count": 23,
   "metadata": {},
   "outputs": [
    {
     "name": "stdout",
     "output_type": "stream",
     "text": [
      "[22:37:26] WARNING: ../src/learner.cc:1095: Starting in XGBoost 1.3.0, the default evaluation metric used with the objective 'binary:logistic' was changed from 'error' to 'logloss'. Explicitly set eval_metric if you'd like to restore the old behavior.\n",
      "[0]\ttrain-logloss:0.60907\ttest-logloss:0.61263\n",
      "[1]\ttrain-logloss:0.53994\ttest-logloss:0.54883\n",
      "[2]\ttrain-logloss:0.48091\ttest-logloss:0.49563\n",
      "[3]\ttrain-logloss:0.43008\ttest-logloss:0.44823\n",
      "[4]\ttrain-logloss:0.38704\ttest-logloss:0.41053\n",
      "[5]\ttrain-logloss:0.35003\ttest-logloss:0.37543\n",
      "[6]\ttrain-logloss:0.31740\ttest-logloss:0.34200\n",
      "[7]\ttrain-logloss:0.28815\ttest-logloss:0.31464\n",
      "[8]\ttrain-logloss:0.26270\ttest-logloss:0.28995\n",
      "[9]\ttrain-logloss:0.24026\ttest-logloss:0.26890\n",
      "[10]\ttrain-logloss:0.21968\ttest-logloss:0.24842\n",
      "[11]\ttrain-logloss:0.20116\ttest-logloss:0.23137\n",
      "[12]\ttrain-logloss:0.18456\ttest-logloss:0.21769\n",
      "[13]\ttrain-logloss:0.16956\ttest-logloss:0.20432\n",
      "[14]\ttrain-logloss:0.15608\ttest-logloss:0.19283\n",
      "[15]\ttrain-logloss:0.14405\ttest-logloss:0.18216\n",
      "[16]\ttrain-logloss:0.13316\ttest-logloss:0.17173\n",
      "[17]\ttrain-logloss:0.12343\ttest-logloss:0.16304\n",
      "[18]\ttrain-logloss:0.11446\ttest-logloss:0.15523\n",
      "[19]\ttrain-logloss:0.10642\ttest-logloss:0.14745\n",
      "[20]\ttrain-logloss:0.09928\ttest-logloss:0.14159\n",
      "[21]\ttrain-logloss:0.09273\ttest-logloss:0.13534\n",
      "[22]\ttrain-logloss:0.08643\ttest-logloss:0.12994\n",
      "[23]\ttrain-logloss:0.08149\ttest-logloss:0.12492\n",
      "[24]\ttrain-logloss:0.07660\ttest-logloss:0.12001\n",
      "[25]\ttrain-logloss:0.07187\ttest-logloss:0.11639\n",
      "[26]\ttrain-logloss:0.06786\ttest-logloss:0.11296\n",
      "[27]\ttrain-logloss:0.06367\ttest-logloss:0.10958\n",
      "[28]\ttrain-logloss:0.06060\ttest-logloss:0.10639\n",
      "[29]\ttrain-logloss:0.05708\ttest-logloss:0.10371\n",
      "[30]\ttrain-logloss:0.05393\ttest-logloss:0.10122\n",
      "[31]\ttrain-logloss:0.05115\ttest-logloss:0.09856\n",
      "[32]\ttrain-logloss:0.04864\ttest-logloss:0.09738\n",
      "[33]\ttrain-logloss:0.04627\ttest-logloss:0.09446\n",
      "[34]\ttrain-logloss:0.04403\ttest-logloss:0.09331\n",
      "[35]\ttrain-logloss:0.04190\ttest-logloss:0.09224\n",
      "[36]\ttrain-logloss:0.04004\ttest-logloss:0.09099\n",
      "[37]\ttrain-logloss:0.03844\ttest-logloss:0.09133\n",
      "[38]\ttrain-logloss:0.03685\ttest-logloss:0.08909\n",
      "[39]\ttrain-logloss:0.03525\ttest-logloss:0.08678\n",
      "[40]\ttrain-logloss:0.03389\ttest-logloss:0.08650\n",
      "[41]\ttrain-logloss:0.03261\ttest-logloss:0.08608\n",
      "[42]\ttrain-logloss:0.03123\ttest-logloss:0.08511\n",
      "[43]\ttrain-logloss:0.03004\ttest-logloss:0.08389\n",
      "[44]\ttrain-logloss:0.02902\ttest-logloss:0.08310\n",
      "[45]\ttrain-logloss:0.02795\ttest-logloss:0.08142\n",
      "[46]\ttrain-logloss:0.02702\ttest-logloss:0.08103\n",
      "[47]\ttrain-logloss:0.02611\ttest-logloss:0.07957\n",
      "[48]\ttrain-logloss:0.02535\ttest-logloss:0.07965\n",
      "[49]\ttrain-logloss:0.02459\ttest-logloss:0.07937\n",
      "直接通过evals_result访问error指标\n",
      "{'train': OrderedDict([('logloss', [0.609068, 0.539941, 0.480914, 0.43008, 0.387036, 0.350031, 0.317404, 0.288146, 0.262704, 0.240257, 0.219679, 0.201162, 0.184556, 0.169557, 0.156084, 0.144052, 0.133162, 0.123426, 0.114455, 0.106423, 0.099277, 0.092731, 0.086427, 0.081485, 0.076597, 0.071875, 0.067863, 0.06367, 0.060596, 0.057083, 0.053933, 0.051145, 0.048639, 0.046271, 0.044026, 0.0419, 0.040043, 0.038444, 0.036853, 0.035246, 0.033889, 0.032606, 0.031231, 0.030038, 0.029023, 0.027949, 0.02702, 0.026106, 0.025351, 0.024594])]), 'test': OrderedDict([('logloss', [0.612629, 0.548832, 0.495628, 0.448231, 0.410532, 0.37543, 0.342003, 0.314641, 0.289953, 0.268902, 0.248424, 0.231371, 0.217689, 0.204316, 0.192828, 0.182163, 0.171726, 0.163039, 0.155225, 0.147446, 0.141589, 0.135335, 0.129938, 0.124918, 0.120009, 0.116387, 0.112964, 0.109577, 0.106388, 0.103708, 0.101219, 0.098565, 0.097378, 0.094459, 0.093306, 0.092242, 0.090991, 0.091331, 0.089088, 0.086783, 0.086496, 0.086084, 0.085112, 0.08389, 0.083098, 0.081416, 0.081035, 0.079568, 0.079654, 0.079367])])}\n",
      "[0.612629, 0.548832, 0.495628, 0.448231, 0.410532, 0.37543, 0.342003, 0.314641, 0.289953, 0.268902, 0.248424, 0.231371, 0.217689, 0.204316, 0.192828, 0.182163, 0.171726, 0.163039, 0.155225, 0.147446, 0.141589, 0.135335, 0.129938, 0.124918, 0.120009, 0.116387, 0.112964, 0.109577, 0.106388, 0.103708, 0.101219, 0.098565, 0.097378, 0.094459, 0.093306, 0.092242, 0.090991, 0.091331, 0.089088, 0.086783, 0.086496, 0.086084, 0.085112, 0.08389, 0.083098, 0.081416, 0.081035, 0.079568, 0.079654, 0.079367]\n"
     ]
    }
   ],
   "source": [
    "\n",
    "\n",
    "evals_result = {}\n",
    "\n",
    "bst = xgb.train(params, xgb_train, num_round, watchlist,evals_result=evals_result)\n",
    "\n",
    "evals_result\n",
    "\n",
    "print(\"直接通过evals_result访问error指标\")\n",
    "print(evals_result)\n",
    "print(evals_result['test']['logloss'])\n",
    "\n"
   ]
  },
  {
   "cell_type": "code",
   "execution_count": null,
   "metadata": {},
   "outputs": [],
   "source": [
    "\n"
   ]
  },
  {
   "cell_type": "code",
   "execution_count": 26,
   "metadata": {},
   "outputs": [
    {
     "name": "stdout",
     "output_type": "stream",
     "text": [
      "[0]\ttrain-rmse:0.45269\ttest-rmse:0.45815\n",
      "[1]\ttrain-rmse:0.41014\ttest-rmse:0.42210\n",
      "[2]\ttrain-rmse:0.37156\ttest-rmse:0.38886\n",
      "[3]\ttrain-rmse:0.33676\ttest-rmse:0.36104\n",
      "[4]\ttrain-rmse:0.30553\ttest-rmse:0.33805\n",
      "[5]\ttrain-rmse:0.27785\ttest-rmse:0.31417\n",
      "[6]\ttrain-rmse:0.25309\ttest-rmse:0.29338\n",
      "[7]\ttrain-rmse:0.23096\ttest-rmse:0.27406\n",
      "[8]\ttrain-rmse:0.21088\ttest-rmse:0.25753\n",
      "[9]\ttrain-rmse:0.19271\ttest-rmse:0.24410\n",
      "[10]\ttrain-rmse:0.17666\ttest-rmse:0.23204\n",
      "[11]\ttrain-rmse:0.16230\ttest-rmse:0.22171\n",
      "[12]\ttrain-rmse:0.14920\ttest-rmse:0.21284\n",
      "[13]\ttrain-rmse:0.13689\ttest-rmse:0.20546\n",
      "[14]\ttrain-rmse:0.12546\ttest-rmse:0.19925\n",
      "[15]\ttrain-rmse:0.11567\ttest-rmse:0.19410\n",
      "[16]\ttrain-rmse:0.10728\ttest-rmse:0.19015\n",
      "[17]\ttrain-rmse:0.09904\ttest-rmse:0.18676\n",
      "[18]\ttrain-rmse:0.09158\ttest-rmse:0.18374\n",
      "[19]\ttrain-rmse:0.08569\ttest-rmse:0.18114\n",
      "[20]\ttrain-rmse:0.08015\ttest-rmse:0.17886\n",
      "[21]\ttrain-rmse:0.07477\ttest-rmse:0.17719\n",
      "[22]\ttrain-rmse:0.06999\ttest-rmse:0.17588\n",
      "[23]\ttrain-rmse:0.06580\ttest-rmse:0.17474\n",
      "[24]\ttrain-rmse:0.06141\ttest-rmse:0.17280\n",
      "[25]\ttrain-rmse:0.05847\ttest-rmse:0.17184\n",
      "[26]\ttrain-rmse:0.05492\ttest-rmse:0.17062\n",
      "[27]\ttrain-rmse:0.05155\ttest-rmse:0.16997\n",
      "[28]\ttrain-rmse:0.04884\ttest-rmse:0.16985\n",
      "[29]\ttrain-rmse:0.04660\ttest-rmse:0.16898\n",
      "[30]\ttrain-rmse:0.04441\ttest-rmse:0.16863\n",
      "[31]\ttrain-rmse:0.04207\ttest-rmse:0.16856\n",
      "[32]\ttrain-rmse:0.03939\ttest-rmse:0.16809\n",
      "[33]\ttrain-rmse:0.03712\ttest-rmse:0.16656\n",
      "[34]\ttrain-rmse:0.03485\ttest-rmse:0.16625\n",
      "[35]\ttrain-rmse:0.03278\ttest-rmse:0.16554\n",
      "[36]\ttrain-rmse:0.03085\ttest-rmse:0.16521\n",
      "[37]\ttrain-rmse:0.02947\ttest-rmse:0.16525\n",
      "[38]\ttrain-rmse:0.02785\ttest-rmse:0.16518\n",
      "[39]\ttrain-rmse:0.02636\ttest-rmse:0.16519\n",
      "[40]\ttrain-rmse:0.02499\ttest-rmse:0.16524\n",
      "[41]\ttrain-rmse:0.02380\ttest-rmse:0.16517\n",
      "[42]\ttrain-rmse:0.02262\ttest-rmse:0.16521\n",
      "[43]\ttrain-rmse:0.02158\ttest-rmse:0.16520\n",
      "[44]\ttrain-rmse:0.02065\ttest-rmse:0.16536\n",
      "[45]\ttrain-rmse:0.01973\ttest-rmse:0.16532\n",
      "[46]\ttrain-rmse:0.01915\ttest-rmse:0.16536\n",
      "[47]\ttrain-rmse:0.01851\ttest-rmse:0.16524\n",
      "[48]\ttrain-rmse:0.01784\ttest-rmse:0.16526\n",
      "[49]\ttrain-rmse:0.01701\ttest-rmse:0.16535\n",
      "前10颗树预测AUC：0.993606\n",
      "所有树预测AUC：0.996803\n"
     ]
    },
    {
     "name": "stderr",
     "output_type": "stream",
     "text": [
      "/home/sl/app/anaconda3/lib/python3.7/site-packages/xgboost/core.py:104: UserWarning: ntree_limit is deprecated, use `iteration_range` or model slicing instead.\n",
      "  UserWarning\n"
     ]
    }
   ],
   "source": [
    "bst = xgb.train(params, xgb_train, num_round, watchlist)\n",
    "\n",
    "label = xgb_test.get_label()\n",
    "pred1 = bst.predict(xgb_test,ntree_limit=10)\n",
    "\n",
    "\n",
    "pred2 = bst.predict(xgb_test)\n",
    "\n",
    "print(\"前10颗树预测AUC：%f\" % roc_auc_score(y_test,pred1))\n",
    "print(\"所有树预测AUC：%f\" % roc_auc_score(y_test,pred2))\n",
    "\n"
   ]
  }
 ],
 "metadata": {
  "kernelspec": {
   "display_name": "Python 3",
   "language": "python",
   "name": "python3"
  },
  "language_info": {
   "codemirror_mode": {
    "name": "ipython",
    "version": 3
   },
   "file_extension": ".py",
   "mimetype": "text/x-python",
   "name": "python",
   "nbconvert_exporter": "python",
   "pygments_lexer": "ipython3",
   "version": "3.7.2"
  }
 },
 "nbformat": 4,
 "nbformat_minor": 1
}