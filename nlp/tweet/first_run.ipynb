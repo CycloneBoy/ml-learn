{
 "cells": [
  {
   "cell_type": "code",
   "execution_count": null,
   "metadata": {
    "collapsed": true,
    "pycharm": {
     "is_executing": true
    }
   },
   "outputs": [],
   "source": [
    "import pandas as pd\n",
    "\n",
    "from util.constant import WORK_DIR\n",
    "\n",
    "pd.set_option('display.max_colwidth', -1)\n",
    "\n",
    "data_dir = \"{}/data/test/tweet\".format(WORK_DIR)\n",
    "\n",
    "train_data = pd.read_csv(\"{}/{}\".format(data_dir,'train.csv'))\n",
    "train_data.head()"
   ]
  }
 ],
 "metadata": {
  "kernelspec": {
   "name": "pycharm-86d2ed7d",
   "language": "python",
   "display_name": "PyCharm (ml-learn)"
  },
  "language_info": {
   "codemirror_mode": {
    "name": "ipython",
    "version": 2
   },
   "file_extension": ".py",
   "mimetype": "text/x-python",
   "name": "python",
   "nbconvert_exporter": "python",
   "pygments_lexer": "ipython2",
   "version": "2.7.6"
  }
 },
 "nbformat": 4,
 "nbformat_minor": 0
}