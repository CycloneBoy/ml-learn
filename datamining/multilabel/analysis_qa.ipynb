{
 "cells": [
  {
   "cell_type": "code",
   "execution_count": 1,
   "metadata": {
    "ExecuteTime": {
     "end_time": "2021-10-24T06:14:08.800354Z",
     "start_time": "2021-10-24T06:14:08.366776Z"
    }
   },
   "outputs": [],
   "source": [
    "import re\n",
    "\n",
    "import jieba\n",
    "import os\n",
    "import fasttext\n",
    "import pandas as pd"
   ]
  },
  {
   "cell_type": "code",
   "execution_count": 2,
   "metadata": {
    "ExecuteTime": {
     "end_time": "2021-10-24T06:14:08.805607Z",
     "start_time": "2021-10-24T06:14:08.802430Z"
    }
   },
   "outputs": [],
   "source": [
    "DATA_CACHE_DIR = '/home/sl/workspace/data/nlp'\n",
    "\n",
    "# 多标签\n",
    "QA_DATA_DIR = f\"{DATA_CACHE_DIR}/multi_class\"\n",
    "QA_ALL_SORT_DATA_DIR = f\"{QA_DATA_DIR}/qa_data_all_no_label_sort.csv\"\n",
    "QA_ALL_SORT_CUT_DATA_DIR  = f\"{QA_DATA_DIR}/qa_data_all_cut.txt\"\n",
    "QA_ALL_SORT_MERGE_CUT_DATA_DIR  = f\"{QA_DATA_DIR}/qa_data_all_merge_cut.csv\"\n",
    "QA_QUESTION_DATA_DIR  = f\"{QA_DATA_DIR}/qa_question.csv\"\n"
   ]
  },
  {
   "cell_type": "markdown",
   "metadata": {},
   "source": [
    "# 分析数据"
   ]
  },
  {
   "cell_type": "code",
   "execution_count": 3,
   "metadata": {
    "ExecuteTime": {
     "end_time": "2021-10-24T06:14:09.440007Z",
     "start_time": "2021-10-24T06:14:08.807219Z"
    }
   },
   "outputs": [
    {
     "data": {
      "text/html": [
       "<div>\n",
       "<style scoped>\n",
       "    .dataframe tbody tr th:only-of-type {\n",
       "        vertical-align: middle;\n",
       "    }\n",
       "\n",
       "    .dataframe tbody tr th {\n",
       "        vertical-align: top;\n",
       "    }\n",
       "\n",
       "    .dataframe thead th {\n",
       "        text-align: right;\n",
       "    }\n",
       "</style>\n",
       "<table border=\"1\" class=\"dataframe\">\n",
       "  <thead>\n",
       "    <tr style=\"text-align: right;\">\n",
       "      <th></th>\n",
       "      <th>gid</th>\n",
       "      <th>question</th>\n",
       "      <th>cut</th>\n",
       "    </tr>\n",
       "  </thead>\n",
       "  <tbody>\n",
       "    <tr>\n",
       "      <th>0</th>\n",
       "      <td>gid</td>\n",
       "      <td>question</td>\n",
       "      <td>cut</td>\n",
       "    </tr>\n",
       "    <tr>\n",
       "      <th>1</th>\n",
       "      <td>guid</td>\n",
       "      <td>question</td>\n",
       "      <td>NaN</td>\n",
       "    </tr>\n",
       "    <tr>\n",
       "      <th>2</th>\n",
       "      <td>25395</td>\n",
       "      <td>问题7其他事项</td>\n",
       "      <td>事项</td>\n",
       "    </tr>\n",
       "    <tr>\n",
       "      <th>3</th>\n",
       "      <td>guid</td>\n",
       "      <td>question</td>\n",
       "      <td>NaN</td>\n",
       "    </tr>\n",
       "    <tr>\n",
       "      <th>4</th>\n",
       "      <td>25788</td>\n",
       "      <td>四、其他问题的补充说明</td>\n",
       "      <td>补充</td>\n",
       "    </tr>\n",
       "  </tbody>\n",
       "</table>\n",
       "</div>"
      ],
      "text/plain": [
       "     gid     question  cut\n",
       "0    gid     question  cut\n",
       "1   guid     question  NaN\n",
       "2  25395      问题7其他事项   事项\n",
       "3   guid     question  NaN\n",
       "4  25788  四、其他问题的补充说明   补充"
      ]
     },
     "execution_count": 3,
     "metadata": {},
     "output_type": "execute_result"
    }
   ],
   "source": [
    "df = pd.read_csv(QA_ALL_SORT_MERGE_CUT_DATA_DIR, names=[\"gid\", \"question\", \"cut\"])\n",
    "patten_qa = re.compile(r'请(发行人|保荐机构|申报会计师)(.+?)[,。]')\n",
    "\n",
    "df.head()\n",
    "    "
   ]
  },
  {
   "cell_type": "code",
   "execution_count": null,
   "metadata": {},
   "outputs": [],
   "source": [
    "\n"
   ]
  }
 ],
 "metadata": {
  "kernelspec": {
   "display_name": "PyCharm (ml-learn)",
   "language": "python",
   "name": "pycharm-86d2ed7d"
  },
  "language_info": {
   "codemirror_mode": {
    "name": "ipython",
    "version": 3
   },
   "file_extension": ".py",
   "mimetype": "text/x-python",
   "name": "python",
   "nbconvert_exporter": "python",
   "pygments_lexer": "ipython3",
   "version": "3.7.2"
  },
  "toc": {
   "base_numbering": 1,
   "nav_menu": {},
   "number_sections": true,
   "sideBar": true,
   "skip_h1_title": false,
   "title_cell": "Table of Contents",
   "title_sidebar": "Contents",
   "toc_cell": false,
   "toc_position": {},
   "toc_section_display": true,
   "toc_window_display": true
  },
  "varInspector": {
   "cols": {
    "lenName": 16,
    "lenType": 16,
    "lenVar": 40
   },
   "kernels_config": {
    "python": {
     "delete_cmd_postfix": "",
     "delete_cmd_prefix": "del ",
     "library": "var_list.py",
     "varRefreshCmd": "print(var_dic_list())"
    },
    "r": {
     "delete_cmd_postfix": ") ",
     "delete_cmd_prefix": "rm(",
     "library": "var_list.r",
     "varRefreshCmd": "cat(var_dic_list()) "
    }
   },
   "types_to_exclude": [
    "module",
    "function",
    "builtin_function_or_method",
    "instance",
    "_Feature"
   ],
   "window_display": false
  }
 },
 "nbformat": 4,
 "nbformat_minor": 2
}
